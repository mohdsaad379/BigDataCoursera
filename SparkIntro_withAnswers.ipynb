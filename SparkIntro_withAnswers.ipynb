{
    "cells": [
        {
            "cell_type": "markdown",
            "metadata": {},
            "source": [
                "<center>\n",
                "    <img src=\"https://gitlab.com/ibm/skills-network/courses/placeholder101/-/raw/master/labs/module%201/images/IDSNlogo.png\" width=\"300\" alt=\"cognitiveclass.ai logo\"  />\n",
                "</center>\n"
            ]
        },
        {
            "cell_type": "markdown",
            "metadata": {},
            "source": [
                "# **Getting Started With Spark using Python**\n"
            ]
        },
        {
            "cell_type": "markdown",
            "metadata": {},
            "source": [
                "Estimated time needed: **15** minutes\n"
            ]
        },
        {
            "cell_type": "markdown",
            "metadata": {},
            "source": [
                "![](http://spark.apache.org/images/spark-logo.png)\n"
            ]
        },
        {
            "cell_type": "markdown",
            "metadata": {},
            "source": [
                "### The Python API\n"
            ]
        },
        {
            "cell_type": "markdown",
            "metadata": {},
            "source": [
                "Spark is written in Scala, which compiles to Java bytecode, but you can write python code to communicate to the java virtual machine through a library called py4j. Python has the richest API, but it can be somewhat limiting if you need to use a method that is not available, or if you need to write a specialized piece of code. The latency associated with communicating back and forth to the JVM can sometimes cause the code to run slower.\n",
                "An exception to this is the SparkSQL library, which has an execution planning engine that precompiles the queries. Even with this optimization, there are cases where the code may run slower than the native scala version.\n",
                "The general recommendation for PySpark code is to use the \"out of the box\" methods available as much as possible and avoid overly frequent (iterative) calls to Spark methods. If you need to write high-performance or specialized code, try doing it in scala.\n",
                "But hey, we know Python rules, and the plotting libraries are way better. So, it's up to you!\n"
            ]
        },
        {
            "cell_type": "markdown",
            "metadata": {},
            "source": [
                "## Objectives\n"
            ]
        },
        {
            "cell_type": "markdown",
            "metadata": {},
            "source": [
                "In this lab, we will go over the basics of Apache Spark and PySpark. We will start with creating the SparkContext and SparkSession. We then create an RDD and apply some basic transformations and actions. Finally we demonstrate the basics dataframes and SparkSQL.\n",
                "\n",
                "After this lab you will be able to:\n",
                "\n",
                "*   Create the SparkContext and SparkSession\n",
                "*   Create an RDD and apply some basic transformations and actions to RDDs\n",
                "*   Demonstrate the use of the basics Dataframes and SparkSQL\n"
            ]
        },
        {
            "cell_type": "markdown",
            "metadata": {},
            "source": [
                "***\n"
            ]
        },
        {
            "cell_type": "markdown",
            "metadata": {},
            "source": [
                "## Setup\n"
            ]
        },
        {
            "cell_type": "markdown",
            "metadata": {},
            "source": [
                "For this lab, we are going to be using Python and Spark (PySpark). These libraries should be installed in your lab environment or in SN Labs.\n"
            ]
        },
        {
            "cell_type": "code",
            "execution_count": 2,
            "metadata": {},
            "outputs": [
                {
                    "name": "stdout",
                    "output_type": "stream",
                    "text": [
                        "Collecting pyspark\n",
                        "  Downloading pyspark-3.2.0.tar.gz (281.3 MB)\n",
                        "\u001b[K     |████████████████████████████████| 281.3 MB 54 kB/s s eta 0:00:01\n",
                        "\u001b[?25hCollecting py4j==0.10.9.2\n",
                        "  Downloading py4j-0.10.9.2-py2.py3-none-any.whl (198 kB)\n",
                        "\u001b[K     |████████████████████████████████| 198 kB 51.7 MB/s eta 0:00:01\n",
                        "\u001b[?25hBuilding wheels for collected packages: pyspark\n",
                        "  Building wheel for pyspark (setup.py) ... \u001b[?25ldone\n",
                        "\u001b[?25h  Created wheel for pyspark: filename=pyspark-3.2.0-py2.py3-none-any.whl size=281805914 sha256=22bcccba3f75565d4ae217f19912320c8e26f37d8c98229395c3ca586e0aabda\n",
                        "  Stored in directory: /tmp/wsuser/.cache/pip/wheels/23/f6/d3/110e53bd43baeb8d7d38049733d48e39cbecd056f01dba7ee8\n",
                        "Successfully built pyspark\n",
                        "Installing collected packages: py4j, pyspark\n",
                        "Successfully installed py4j-0.10.9.2 pyspark-3.2.0\n",
                        "Collecting findspark\n",
                        "  Downloading findspark-1.4.2-py2.py3-none-any.whl (4.2 kB)\n",
                        "Installing collected packages: findspark\n",
                        "Successfully installed findspark-1.4.2\n"
                    ]
                }
            ],
            "source": [
                "# Installing required packages\n",
                "!pip install pyspark\n",
                "!pip install findspark"
            ]
        },
        {
            "cell_type": "code",
            "execution_count": 4,
            "metadata": {},
            "outputs": [
                {
                    "ename": "ValueError",
                    "evalue": "Couldn't find Spark, make sure SPARK_HOME env is set or Spark is in an expected location (e.g. from homebrew installation).",
                    "output_type": "error",
                    "traceback": [
                        "\u001b[0;31m---------------------------------------------------------------------------\u001b[0m",
                        "\u001b[0;31mValueError\u001b[0m                                Traceback (most recent call last)",
                        "\u001b[0;32m/tmp/wsuser/ipykernel_154/1871603196.py\u001b[0m in \u001b[0;36m<module>\u001b[0;34m\u001b[0m\n\u001b[1;32m      1\u001b[0m \u001b[0;32mimport\u001b[0m \u001b[0mfindspark\u001b[0m\u001b[0;34m\u001b[0m\u001b[0;34m\u001b[0m\u001b[0m\n\u001b[0;32m----> 2\u001b[0;31m \u001b[0mfindspark\u001b[0m\u001b[0;34m.\u001b[0m\u001b[0minit\u001b[0m\u001b[0;34m(\u001b[0m\u001b[0;34m)\u001b[0m\u001b[0;34m\u001b[0m\u001b[0;34m\u001b[0m\u001b[0m\n\u001b[0m",
                        "\u001b[0;32m/opt/conda/envs/Python-3.8-main/lib/python3.8/site-packages/findspark.py\u001b[0m in \u001b[0;36minit\u001b[0;34m(spark_home, python_path, edit_rc, edit_profile)\u001b[0m\n\u001b[1;32m    127\u001b[0m \u001b[0;34m\u001b[0m\u001b[0m\n\u001b[1;32m    128\u001b[0m     \u001b[0;32mif\u001b[0m \u001b[0;32mnot\u001b[0m \u001b[0mspark_home\u001b[0m\u001b[0;34m:\u001b[0m\u001b[0;34m\u001b[0m\u001b[0;34m\u001b[0m\u001b[0m\n\u001b[0;32m--> 129\u001b[0;31m         \u001b[0mspark_home\u001b[0m \u001b[0;34m=\u001b[0m \u001b[0mfind\u001b[0m\u001b[0;34m(\u001b[0m\u001b[0;34m)\u001b[0m\u001b[0;34m\u001b[0m\u001b[0;34m\u001b[0m\u001b[0m\n\u001b[0m\u001b[1;32m    130\u001b[0m \u001b[0;34m\u001b[0m\u001b[0m\n\u001b[1;32m    131\u001b[0m     \u001b[0;32mif\u001b[0m \u001b[0;32mnot\u001b[0m \u001b[0mpython_path\u001b[0m\u001b[0;34m:\u001b[0m\u001b[0;34m\u001b[0m\u001b[0;34m\u001b[0m\u001b[0m\n",
                        "\u001b[0;32m/opt/conda/envs/Python-3.8-main/lib/python3.8/site-packages/findspark.py\u001b[0m in \u001b[0;36mfind\u001b[0;34m()\u001b[0m\n\u001b[1;32m     33\u001b[0m \u001b[0;34m\u001b[0m\u001b[0m\n\u001b[1;32m     34\u001b[0m     \u001b[0;32mif\u001b[0m \u001b[0;32mnot\u001b[0m \u001b[0mspark_home\u001b[0m\u001b[0;34m:\u001b[0m\u001b[0;34m\u001b[0m\u001b[0;34m\u001b[0m\u001b[0m\n\u001b[0;32m---> 35\u001b[0;31m         raise ValueError(\n\u001b[0m\u001b[1;32m     36\u001b[0m             \u001b[0;34m\"Couldn't find Spark, make sure SPARK_HOME env is set\"\u001b[0m\u001b[0;34m\u001b[0m\u001b[0;34m\u001b[0m\u001b[0m\n\u001b[1;32m     37\u001b[0m             \u001b[0;34m\" or Spark is in an expected location (e.g. from homebrew installation).\"\u001b[0m\u001b[0;34m\u001b[0m\u001b[0;34m\u001b[0m\u001b[0m\n",
                        "\u001b[0;31mValueError\u001b[0m: Couldn't find Spark, make sure SPARK_HOME env is set or Spark is in an expected location (e.g. from homebrew installation)."
                    ]
                }
            ],
            "source": [
                "import findspark\n",
                "findspark.init()"
            ]
        },
        {
            "cell_type": "code",
            "execution_count": 5,
            "metadata": {},
            "outputs": [],
            "source": [
                "# PySpark is the Spark API for Python. In this lab, we use PySpark to initialize the spark context. \n",
                "from pyspark import SparkContext, SparkConf\n",
                "from pyspark.sql import SparkSession"
            ]
        },
        {
            "cell_type": "markdown",
            "metadata": {},
            "source": [
                "## Exercise 1 -  Spark Context and Spark Session\n"
            ]
        },
        {
            "cell_type": "markdown",
            "metadata": {},
            "source": [
                "In this exercise, you will create the Spark Context and initialize the Spark session needed for SparkSQL and DataFrames.\n",
                "SparkContext is the entry point for Spark applications and contains functions to create RDDs such as `parallelize()`. SparkSession is needed for SparkSQL and DataFrame operations.\n"
            ]
        },
        {
            "cell_type": "markdown",
            "metadata": {},
            "source": [
                "#### Task 1: Creating the spark session and context\n"
            ]
        },
        {
            "cell_type": "code",
            "execution_count": 6,
            "metadata": {},
            "outputs": [
                {
                    "name": "stderr",
                    "output_type": "stream",
                    "text": [
                        "Using Spark's default log4j profile: org/apache/spark/log4j-defaults.properties\n",
                        "Setting default log level to \"WARN\".\n",
                        "To adjust logging level use sc.setLogLevel(newLevel). For SparkR, use setLogLevel(newLevel).\n",
                        "21/12/20 21:48:28 WARN NativeCodeLoader: Unable to load native-hadoop library for your platform... using builtin-java classes where applicable\n"
                    ]
                }
            ],
            "source": [
                "# Creating a spark context class\n",
                "sc = SparkContext()\n",
                "\n",
                "# Creating a spark session\n",
                "spark = SparkSession \\\n",
                "    .builder \\\n",
                "    .appName(\"Python Spark DataFrames basic example\") \\\n",
                "    .config(\"spark.some.config.option\", \"some-value\") \\\n",
                "    .getOrCreate()"
            ]
        },
        {
            "cell_type": "markdown",
            "metadata": {},
            "source": [
                "#### Task 2: Initialize Spark session\n",
                "\n",
                "To work with dataframes we just need to verify that the spark session instance has been created.\n"
            ]
        },
        {
            "cell_type": "code",
            "execution_count": 7,
            "metadata": {},
            "outputs": [
                {
                    "data": {
                        "text/html": [
                            "\n",
                            "            <div>\n",
                            "                <p><b>SparkSession - in-memory</b></p>\n",
                            "                \n",
                            "        <div>\n",
                            "            <p><b>SparkContext</b></p>\n",
                            "\n",
                            "            <p><a href=\"http://notebook-conda2py38df7f2218769f4dd28dc1223fb8bb52dd-56c96dx8bd7:4040\">Spark UI</a></p>\n",
                            "\n",
                            "            <dl>\n",
                            "              <dt>Version</dt>\n",
                            "                <dd><code>v3.2.0</code></dd>\n",
                            "              <dt>Master</dt>\n",
                            "                <dd><code>local[*]</code></dd>\n",
                            "              <dt>AppName</dt>\n",
                            "                <dd><code>pyspark-shell</code></dd>\n",
                            "            </dl>\n",
                            "        </div>\n",
                            "        \n",
                            "            </div>\n",
                            "        "
                        ],
                        "text/plain": [
                            "<pyspark.sql.session.SparkSession at 0x7f9860668160>"
                        ]
                    },
                    "execution_count": 7,
                    "metadata": {},
                    "output_type": "execute_result"
                }
            ],
            "source": [
                "spark"
            ]
        },
        {
            "cell_type": "markdown",
            "metadata": {},
            "source": [
                "## Exercise 2: RDDs\n",
                "\n",
                "In this exercise we work with Resilient Distributed Datasets (RDDs). RDDs are Spark's primitive data abstraction and we use concepts from functional programming to create and manipulate RDDs.\n"
            ]
        },
        {
            "cell_type": "markdown",
            "metadata": {},
            "source": [
                "#### Task 1: Create an RDD.\n",
                "\n",
                "For demonstration purposes, we create an RDD here by calling `sc.parallelize()`\\\n",
                "We create an RDD which has integers from 1 to 30.\n"
            ]
        },
        {
            "cell_type": "code",
            "execution_count": 8,
            "metadata": {},
            "outputs": [
                {
                    "name": "stdout",
                    "output_type": "stream",
                    "text": [
                        "1\n"
                    ]
                },
                {
                    "data": {
                        "text/plain": [
                            "PythonRDD[1] at RDD at PythonRDD.scala:53"
                        ]
                    },
                    "execution_count": 8,
                    "metadata": {},
                    "output_type": "execute_result"
                }
            ],
            "source": [
                "data = range(1,30)\n",
                "# print first element of iterator\n",
                "print(data[0])\n",
                "len(data)\n",
                "xrangeRDD = sc.parallelize(data, 4)\n",
                "\n",
                "# this will let us know that we created an RDD\n",
                "xrangeRDD"
            ]
        },
        {
            "cell_type": "markdown",
            "metadata": {},
            "source": [
                "#### Task 2: Transformations\n"
            ]
        },
        {
            "cell_type": "markdown",
            "metadata": {},
            "source": [
                "A transformation is an operation on an RDD that results in a new RDD. The transformed RDD is generated rapidly because the new RDD is lazily evaluated, which means that the calculation is not carried out when the new RDD is generated. The RDD will contain a series of transformations, or computation instructions, that will only be carried out when an action is called. In this transformation, we reduce each element in the RDD by 1. Note the use of the lambda function. We also then filter the RDD to only contain elements <10.\n"
            ]
        },
        {
            "cell_type": "code",
            "execution_count": 9,
            "metadata": {},
            "outputs": [],
            "source": [
                "subRDD = xrangeRDD.map(lambda x: x-1)\n",
                "filteredRDD = subRDD.filter(lambda x : x<10)\n"
            ]
        },
        {
            "cell_type": "markdown",
            "metadata": {},
            "source": [
                "#### Task 3: Actions\n"
            ]
        },
        {
            "cell_type": "markdown",
            "metadata": {},
            "source": [
                "A transformation returns a result to the driver. We now apply the `collect()` action to get the output from the transformation.\n"
            ]
        },
        {
            "cell_type": "code",
            "execution_count": 10,
            "metadata": {},
            "outputs": [
                {
                    "name": "stderr",
                    "output_type": "stream",
                    "text": [
                        "[Stage 0:>                                                          (0 + 2) / 4]\r"
                    ]
                },
                {
                    "name": "stdout",
                    "output_type": "stream",
                    "text": [
                        "[0, 1, 2, 3, 4, 5, 6, 7, 8, 9]\n"
                    ]
                },
                {
                    "name": "stderr",
                    "output_type": "stream",
                    "text": [
                        "                                                                                \r"
                    ]
                },
                {
                    "data": {
                        "text/plain": [
                            "10"
                        ]
                    },
                    "execution_count": 10,
                    "metadata": {},
                    "output_type": "execute_result"
                }
            ],
            "source": [
                "print(filteredRDD.collect())\n",
                "filteredRDD.count()"
            ]
        },
        {
            "cell_type": "markdown",
            "metadata": {},
            "source": [
                "#### Task 4: Caching Data\n"
            ]
        },
        {
            "cell_type": "markdown",
            "metadata": {},
            "source": [
                "This simple example shows how to create an RDD and cache it. Notice the **10x speed improvement**!  If you wish to see the actual computation time, browse to the Spark UI...it's at host:4040.  You'll see that the second calculation took much less time!\n"
            ]
        },
        {
            "cell_type": "code",
            "execution_count": 11,
            "metadata": {},
            "outputs": [
                {
                    "name": "stdout",
                    "output_type": "stream",
                    "text": [
                        "dt1:  0.6106066703796387\n",
                        "dt2:  0.1908738613128662\n"
                    ]
                },
                {
                    "data": {
                        "text/plain": [
                            "49999"
                        ]
                    },
                    "execution_count": 11,
                    "metadata": {},
                    "output_type": "execute_result"
                }
            ],
            "source": [
                "import time \n",
                "\n",
                "test = sc.parallelize(range(1,50000),4)\n",
                "test.cache()\n",
                "\n",
                "t1 = time.time()\n",
                "# first count will trigger evaluation of count *and* cache\n",
                "count1 = test.count()\n",
                "dt1 = time.time() - t1\n",
                "print(\"dt1: \", dt1)\n",
                "\n",
                "\n",
                "t2 = time.time()\n",
                "# second count operates on cached data only\n",
                "count2 = test.count()\n",
                "dt2 = time.time() - t2\n",
                "print(\"dt2: \", dt2)\n",
                "\n",
                "\n",
                "test.count()"
            ]
        },
        {
            "cell_type": "markdown",
            "metadata": {},
            "source": [
                "## Exercise 3: DataFrames and SparkSQL\n"
            ]
        },
        {
            "cell_type": "markdown",
            "metadata": {},
            "source": [
                "In order to work with the extremely powerful SQL engine in Apache Spark, you will need a Spark Session. We have created that in the first Exercise, let us verify that spark session is still active.\n"
            ]
        },
        {
            "cell_type": "code",
            "execution_count": 12,
            "metadata": {
                "tags": []
            },
            "outputs": [
                {
                    "data": {
                        "text/html": [
                            "\n",
                            "            <div>\n",
                            "                <p><b>SparkSession - in-memory</b></p>\n",
                            "                \n",
                            "        <div>\n",
                            "            <p><b>SparkContext</b></p>\n",
                            "\n",
                            "            <p><a href=\"http://notebook-conda2py38df7f2218769f4dd28dc1223fb8bb52dd-56c96dx8bd7:4040\">Spark UI</a></p>\n",
                            "\n",
                            "            <dl>\n",
                            "              <dt>Version</dt>\n",
                            "                <dd><code>v3.2.0</code></dd>\n",
                            "              <dt>Master</dt>\n",
                            "                <dd><code>local[*]</code></dd>\n",
                            "              <dt>AppName</dt>\n",
                            "                <dd><code>pyspark-shell</code></dd>\n",
                            "            </dl>\n",
                            "        </div>\n",
                            "        \n",
                            "            </div>\n",
                            "        "
                        ],
                        "text/plain": [
                            "<pyspark.sql.session.SparkSession at 0x7f9860668160>"
                        ]
                    },
                    "execution_count": 12,
                    "metadata": {},
                    "output_type": "execute_result"
                }
            ],
            "source": [
                "spark"
            ]
        },
        {
            "cell_type": "markdown",
            "metadata": {},
            "source": [
                "#### Task 1: Create Your First DataFrame!\n"
            ]
        },
        {
            "cell_type": "markdown",
            "metadata": {},
            "source": [
                "You can create a structured data set (much like a database table) in Spark.  Once you have done that, you can then use powerful SQL tools to query and join your dataframes.\n"
            ]
        },
        {
            "cell_type": "code",
            "execution_count": 13,
            "metadata": {},
            "outputs": [
                {
                    "name": "stdout",
                    "output_type": "stream",
                    "text": [
                        "  % Total    % Received % Xferd  Average Speed   Time    Time     Time  Current\n",
                        "                                 Dload  Upload   Total   Spent    Left  Speed\n",
                        "100    73  100    73    0     0    588      0 --:--:-- --:--:-- --:--:--   588\n"
                    ]
                }
            ],
            "source": [
                "# Download the data first into a local `people.json` file\n",
                "!curl https://cf-courses-data.s3.us.cloud-object-storage.appdomain.cloud/IBM-BD0225EN-SkillsNetwork/labs/data/people.json >> people.json"
            ]
        },
        {
            "cell_type": "code",
            "execution_count": 14,
            "metadata": {},
            "outputs": [
                {
                    "name": "stderr",
                    "output_type": "stream",
                    "text": [
                        "                                                                                \r"
                    ]
                }
            ],
            "source": [
                "# Read the dataset into a spark dataframe using the `read.json()` function\n",
                "df = spark.read.json(\"people.json\").cache()"
            ]
        },
        {
            "cell_type": "code",
            "execution_count": 15,
            "metadata": {},
            "outputs": [
                {
                    "name": "stdout",
                    "output_type": "stream",
                    "text": [
                        "+----+-------+\n",
                        "| age|   name|\n",
                        "+----+-------+\n",
                        "|null|Michael|\n",
                        "|  30|   Andy|\n",
                        "|  19| Justin|\n",
                        "+----+-------+\n",
                        "\n",
                        "root\n",
                        " |-- age: long (nullable = true)\n",
                        " |-- name: string (nullable = true)\n",
                        "\n"
                    ]
                }
            ],
            "source": [
                "# Print the dataframe as well as the data schema\n",
                "df.show()\n",
                "df.printSchema()"
            ]
        },
        {
            "cell_type": "code",
            "execution_count": 16,
            "metadata": {},
            "outputs": [],
            "source": [
                "# Register the DataFrame as a SQL temporary view\n",
                "df.createTempView(\"people\")"
            ]
        },
        {
            "cell_type": "markdown",
            "metadata": {},
            "source": [
                "#### Task 2: Explore the data using DataFrame functions and SparkSQL\n",
                "\n",
                "In this section, we explore the datasets using functions both from dataframes as well as corresponding SQL queries using sparksql. Note the different ways to achieve the same task!\n"
            ]
        },
        {
            "cell_type": "code",
            "execution_count": 17,
            "metadata": {},
            "outputs": [
                {
                    "name": "stdout",
                    "output_type": "stream",
                    "text": [
                        "+-------+\n",
                        "|   name|\n",
                        "+-------+\n",
                        "|Michael|\n",
                        "|   Andy|\n",
                        "| Justin|\n",
                        "+-------+\n",
                        "\n",
                        "+-------+\n",
                        "|   name|\n",
                        "+-------+\n",
                        "|Michael|\n",
                        "|   Andy|\n",
                        "| Justin|\n",
                        "+-------+\n",
                        "\n",
                        "+-------+\n",
                        "|   name|\n",
                        "+-------+\n",
                        "|Michael|\n",
                        "|   Andy|\n",
                        "| Justin|\n",
                        "+-------+\n",
                        "\n"
                    ]
                }
            ],
            "source": [
                "# Select and show basic data columns\n",
                "\n",
                "df.select(\"name\").show()\n",
                "df.select(df[\"name\"]).show()\n",
                "spark.sql(\"SELECT name FROM people\").show()"
            ]
        },
        {
            "cell_type": "code",
            "execution_count": 18,
            "metadata": {},
            "outputs": [
                {
                    "name": "stdout",
                    "output_type": "stream",
                    "text": [
                        "+---+----+\n",
                        "|age|name|\n",
                        "+---+----+\n",
                        "| 30|Andy|\n",
                        "+---+----+\n",
                        "\n",
                        "+---+----+\n",
                        "|age|name|\n",
                        "+---+----+\n",
                        "| 30|Andy|\n",
                        "+---+----+\n",
                        "\n"
                    ]
                }
            ],
            "source": [
                "# Perform basic filtering\n",
                "\n",
                "df.filter(df[\"age\"] > 21).show()\n",
                "spark.sql(\"SELECT age, name FROM people WHERE age > 21\").show()"
            ]
        },
        {
            "cell_type": "code",
            "execution_count": 19,
            "metadata": {},
            "outputs": [
                {
                    "name": "stdout",
                    "output_type": "stream",
                    "text": [
                        "+----+-----+\n",
                        "| age|count|\n",
                        "+----+-----+\n",
                        "|  19|    1|\n",
                        "|  30|    1|\n",
                        "|null|    1|\n",
                        "+----+-----+\n",
                        "\n",
                        "+----+-----+\n",
                        "| age|count|\n",
                        "+----+-----+\n",
                        "|  19|    1|\n",
                        "|  30|    1|\n",
                        "|null|    0|\n",
                        "+----+-----+\n",
                        "\n"
                    ]
                }
            ],
            "source": [
                "# Perfom basic aggregation of data\n",
                "\n",
                "df.groupBy(\"age\").count().show()\n",
                "spark.sql(\"SELECT age, COUNT(age) as count FROM people GROUP BY age\").show()"
            ]
        },
        {
            "cell_type": "markdown",
            "metadata": {},
            "source": [
                "***\n"
            ]
        },
        {
            "cell_type": "markdown",
            "metadata": {},
            "source": [
                "### Question 1 - RDDs\n"
            ]
        },
        {
            "cell_type": "markdown",
            "metadata": {},
            "source": [
                "Create an RDD with integers from 1-50. Apply a transformation to multiply every number by 2, resulting in an RDD that contains the first 50 even numbers.\n"
            ]
        },
        {
            "cell_type": "code",
            "execution_count": null,
            "metadata": {},
            "outputs": [],
            "source": [
                "# starter code\n",
                "# numbers = range(1, 50)\n",
                "# numbers_RDD = ...\n",
                "# even_numbers_RDD = numbers_RDD.map(lambda x: ..)"
            ]
        },
        {
            "cell_type": "raw",
            "metadata": {},
            "source": []
        },
        {
            "cell_type": "code",
            "execution_count": 20,
            "metadata": {},
            "outputs": [
                {
                    "name": "stdout",
                    "output_type": "stream",
                    "text": [
                        "range(1, 51)\n",
                        "[1, 2, 3, 4, 5, 6, 7, 8, 9, 10, 11, 12, 13, 14, 15, 16, 17, 18, 19, 20, 21, 22, 23, 24, 25, 26, 27, 28, 29, 30, 31, 32, 33, 34, 35, 36, 37, 38, 39, 40, 41, 42, 43, 44, 45, 46, 47, 48, 49, 50]\n",
                        "[2, 4, 6, 8, 10, 12, 14, 16, 18, 20, 22, 24, 26, 28, 30, 32, 34, 36, 38, 40, 42, 44, 46, 48, 50, 52, 54, 56, 58, 60, 62, 64, 66, 68, 70, 72, 74, 76, 78, 80, 82, 84, 86, 88, 90, 92, 94, 96, 98, 100]\n"
                    ]
                }
            ],
            "source": [
                "# Code block for learners to answer\n",
                "\n",
                "data = range(1, 51)\n",
                "print(data)\n",
                "numbers_RDD = sc.parallelize(data,4)\n",
                "\n",
                "print(numbers_RDD.collect())\n",
                "\n",
                "even_numbers_RDD = numbers_RDD.map(lambda x: x * 2 )\n",
                "\n",
                "filteredRDD = even_numbers_RDD.filter(lambda x:x<=100)\n",
                "\n",
                "print(filteredRDD.collect())"
            ]
        },
        {
            "cell_type": "markdown",
            "metadata": {},
            "source": [
                "### Question 2 - DataFrames and SparkSQL\n"
            ]
        },
        {
            "cell_type": "markdown",
            "metadata": {},
            "source": [
                "Similar to the `people.json` file, now read the `people2.json` file into the notebook, load it into a dataframe and apply SQL operations to determine the average age in our people2 file.\n"
            ]
        },
        {
            "cell_type": "code",
            "execution_count": 26,
            "metadata": {},
            "outputs": [],
            "source": [
                "# starter code\n",
                "# !curl https://cf-courses-data.s3.us.cloud-object-storage.appdomain.cloud/IBM-BD0225EN-SkillsNetwork/labs/data/people2.json >> people2.json\n",
                "# df = spark.read...\n",
                "# df.createTempView..\n",
                "# spark.sql(\"SELECT ...\")"
            ]
        },
        {
            "cell_type": "code",
            "execution_count": 52,
            "metadata": {},
            "outputs": [
                {
                    "name": "stdout",
                    "output_type": "stream",
                    "text": [
                        "  % Total    % Received % Xferd  Average Speed   Time    Time     Time  Current\n",
                        "                                 Dload  Upload   Total   Spent    Left  Speed\n",
                        "100    73  100    73    0     0    722      0 --:--:-- --:--:-- --:--:--   722\n",
                        "+----+\n",
                        "| age|\n",
                        "+----+\n",
                        "|null|\n",
                        "|  30|\n",
                        "|  19|\n",
                        "+----+\n",
                        "\n",
                        "+--------+\n",
                        "|avg(age)|\n",
                        "+--------+\n",
                        "|    24.5|\n",
                        "+--------+\n",
                        "\n"
                    ]
                }
            ],
            "source": [
                "# Code block for learners to answer\n",
                "!curl https://cf-courses-data.s3.us.cloud-object-storage.appdomain.cloud/IBM-BD0225EN-SkillsNetwork/labs/data/people.json >> people2.json\n",
                "df = spark.read.json(\"people2.json\")\n",
                "df.createTempView(\"people2\")\n",
                "df.select(\"age\").show()\n",
                "spark.sql(\"SELECT avg(age) from people2 WHERE age > 0\").show()"
            ]
        },
        {
            "cell_type": "markdown",
            "metadata": {
                "jupyter": {
                    "source_hidden": true
                },
                "tags": []
            },
            "source": [
                "Double-click **here** for a hint.\n",
                "\n",
                "<!-- The hint is below:\n",
                "\n",
                "1. The SQL query \"Select AVG(column_name) from..\" can be used to find the average value of a column. \n",
                "2. Another possible way is to use the dataframe operations select() and mean()\n",
                "-->\n"
            ]
        },
        {
            "cell_type": "markdown",
            "metadata": {
                "jupyter": {
                    "source_hidden": true
                },
                "tags": []
            },
            "source": [
                "Double-click **here** for the solution.\n",
                "\n",
                "<!-- The answer is below:\n",
                "df = spark.read('people2.json')\n",
                "df.createTempView(\"people2\")\n",
                "spark.sql(\"SELECT AVG(age) from people2\")\n",
                "-->\n"
            ]
        },
        {
            "cell_type": "markdown",
            "metadata": {},
            "source": [
                "### Question 3 - SparkSession\n"
            ]
        },
        {
            "cell_type": "markdown",
            "metadata": {},
            "source": [
                "Close the SparkSession we created for this notebook\n"
            ]
        },
        {
            "cell_type": "code",
            "execution_count": 53,
            "metadata": {},
            "outputs": [],
            "source": [
                "# Code block for learners to answer\n",
                "spark.stop()"
            ]
        },
        {
            "cell_type": "code",
            "execution_count": 54,
            "metadata": {},
            "outputs": [
                {
                    "ename": "AttributeError",
                    "evalue": "'NoneType' object has no attribute 'sc'",
                    "output_type": "error",
                    "traceback": [
                        "\u001b[0;31m---------------------------------------------------------------------------\u001b[0m",
                        "\u001b[0;31mAttributeError\u001b[0m                            Traceback (most recent call last)",
                        "\u001b[0;32m~/conda/envs/python/lib/python3.7/site-packages/IPython/core/formatters.py\u001b[0m in \u001b[0;36m__call__\u001b[0;34m(self, obj)\u001b[0m\n\u001b[1;32m    343\u001b[0m             \u001b[0mmethod\u001b[0m \u001b[0;34m=\u001b[0m \u001b[0mget_real_method\u001b[0m\u001b[0;34m(\u001b[0m\u001b[0mobj\u001b[0m\u001b[0;34m,\u001b[0m \u001b[0mself\u001b[0m\u001b[0;34m.\u001b[0m\u001b[0mprint_method\u001b[0m\u001b[0;34m)\u001b[0m\u001b[0;34m\u001b[0m\u001b[0;34m\u001b[0m\u001b[0m\n\u001b[1;32m    344\u001b[0m             \u001b[0;32mif\u001b[0m \u001b[0mmethod\u001b[0m \u001b[0;32mis\u001b[0m \u001b[0;32mnot\u001b[0m \u001b[0;32mNone\u001b[0m\u001b[0;34m:\u001b[0m\u001b[0;34m\u001b[0m\u001b[0;34m\u001b[0m\u001b[0m\n\u001b[0;32m--> 345\u001b[0;31m                 \u001b[0;32mreturn\u001b[0m \u001b[0mmethod\u001b[0m\u001b[0;34m(\u001b[0m\u001b[0;34m)\u001b[0m\u001b[0;34m\u001b[0m\u001b[0;34m\u001b[0m\u001b[0m\n\u001b[0m\u001b[1;32m    346\u001b[0m             \u001b[0;32mreturn\u001b[0m \u001b[0;32mNone\u001b[0m\u001b[0;34m\u001b[0m\u001b[0;34m\u001b[0m\u001b[0m\n\u001b[1;32m    347\u001b[0m         \u001b[0;32melse\u001b[0m\u001b[0;34m:\u001b[0m\u001b[0;34m\u001b[0m\u001b[0;34m\u001b[0m\u001b[0m\n",
                        "\u001b[0;32m~/spark-2.4.3/python/pyspark/sql/session.py\u001b[0m in \u001b[0;36m_repr_html_\u001b[0;34m(self)\u001b[0m\n\u001b[1;32m    241\u001b[0m         \"\"\".format(\n\u001b[1;32m    242\u001b[0m             \u001b[0mcatalogImplementation\u001b[0m\u001b[0;34m=\u001b[0m\u001b[0mself\u001b[0m\u001b[0;34m.\u001b[0m\u001b[0mconf\u001b[0m\u001b[0;34m.\u001b[0m\u001b[0mget\u001b[0m\u001b[0;34m(\u001b[0m\u001b[0;34m\"spark.sql.catalogImplementation\"\u001b[0m\u001b[0;34m)\u001b[0m\u001b[0;34m,\u001b[0m\u001b[0;34m\u001b[0m\u001b[0;34m\u001b[0m\u001b[0m\n\u001b[0;32m--> 243\u001b[0;31m             \u001b[0msc_HTML\u001b[0m\u001b[0;34m=\u001b[0m\u001b[0mself\u001b[0m\u001b[0;34m.\u001b[0m\u001b[0msparkContext\u001b[0m\u001b[0;34m.\u001b[0m\u001b[0m_repr_html_\u001b[0m\u001b[0;34m(\u001b[0m\u001b[0;34m)\u001b[0m\u001b[0;34m\u001b[0m\u001b[0;34m\u001b[0m\u001b[0m\n\u001b[0m\u001b[1;32m    244\u001b[0m         )\n\u001b[1;32m    245\u001b[0m \u001b[0;34m\u001b[0m\u001b[0m\n",
                        "\u001b[0;32m~/spark-2.4.3/python/pyspark/context.py\u001b[0m in \u001b[0;36m_repr_html_\u001b[0;34m(self)\u001b[0m\n\u001b[1;32m    297\u001b[0m         \u001b[0;34m<\u001b[0m\u001b[0;34m/\u001b[0m\u001b[0mdiv\u001b[0m\u001b[0;34m>\u001b[0m\u001b[0;34m\u001b[0m\u001b[0;34m\u001b[0m\u001b[0m\n\u001b[1;32m    298\u001b[0m         \"\"\".format(\n\u001b[0;32m--> 299\u001b[0;31m             \u001b[0msc\u001b[0m\u001b[0;34m=\u001b[0m\u001b[0mself\u001b[0m\u001b[0;34m\u001b[0m\u001b[0;34m\u001b[0m\u001b[0m\n\u001b[0m\u001b[1;32m    300\u001b[0m         )\n\u001b[1;32m    301\u001b[0m \u001b[0;34m\u001b[0m\u001b[0m\n",
                        "\u001b[0;32m~/spark-2.4.3/python/pyspark/context.py\u001b[0m in \u001b[0;36muiWebUrl\u001b[0;34m(self)\u001b[0m\n\u001b[1;32m    409\u001b[0m     \u001b[0;32mdef\u001b[0m \u001b[0muiWebUrl\u001b[0m\u001b[0;34m(\u001b[0m\u001b[0mself\u001b[0m\u001b[0;34m)\u001b[0m\u001b[0;34m:\u001b[0m\u001b[0;34m\u001b[0m\u001b[0;34m\u001b[0m\u001b[0m\n\u001b[1;32m    410\u001b[0m         \u001b[0;34m\"\"\"Return the URL of the SparkUI instance started by this SparkContext\"\"\"\u001b[0m\u001b[0;34m\u001b[0m\u001b[0;34m\u001b[0m\u001b[0m\n\u001b[0;32m--> 411\u001b[0;31m         \u001b[0;32mreturn\u001b[0m \u001b[0mself\u001b[0m\u001b[0;34m.\u001b[0m\u001b[0m_jsc\u001b[0m\u001b[0;34m.\u001b[0m\u001b[0msc\u001b[0m\u001b[0;34m(\u001b[0m\u001b[0;34m)\u001b[0m\u001b[0;34m.\u001b[0m\u001b[0muiWebUrl\u001b[0m\u001b[0;34m(\u001b[0m\u001b[0;34m)\u001b[0m\u001b[0;34m.\u001b[0m\u001b[0mget\u001b[0m\u001b[0;34m(\u001b[0m\u001b[0;34m)\u001b[0m\u001b[0;34m\u001b[0m\u001b[0;34m\u001b[0m\u001b[0m\n\u001b[0m\u001b[1;32m    412\u001b[0m \u001b[0;34m\u001b[0m\u001b[0m\n\u001b[1;32m    413\u001b[0m     \u001b[0;34m@\u001b[0m\u001b[0mproperty\u001b[0m\u001b[0;34m\u001b[0m\u001b[0;34m\u001b[0m\u001b[0m\n",
                        "\u001b[0;31mAttributeError\u001b[0m: 'NoneType' object has no attribute 'sc'"
                    ]
                },
                {
                    "data": {
                        "text/plain": [
                            "<pyspark.sql.session.SparkSession at 0x7f354843c090>"
                        ]
                    },
                    "execution_count": 54,
                    "metadata": {},
                    "output_type": "execute_result"
                }
            ],
            "source": [
                "spark"
            ]
        },
        {
            "cell_type": "markdown",
            "metadata": {},
            "source": [
                "Double-click **here** for the solution.\n",
                "\n",
                "<!-- The answer is below:\n",
                "\n",
                "spark.stop() will stop the spark session\n",
                "\n",
                "-->\n"
            ]
        },
        {
            "cell_type": "markdown",
            "metadata": {},
            "source": [
                "## Authors\n"
            ]
        },
        {
            "cell_type": "markdown",
            "metadata": {},
            "source": [
                "[Karthik Muthuraman](https://www.linkedin.com/in/karthik-muthuraman/?utm_medium=Exinfluencer&utm_source=Exinfluencer&utm_content=000026UJ&utm_term=10006555&utm_id=NA-SkillsNetwork-Channel-SkillsNetworkCoursesIBMBD0225ENSkillsNetwork25716109-2021-01-01)\n"
            ]
        },
        {
            "cell_type": "markdown",
            "metadata": {},
            "source": [
                "### Other Contributors\n"
            ]
        },
        {
            "cell_type": "markdown",
            "metadata": {},
            "source": [
                "[Jerome Nilmeier](https://github.com/nilmeier)\n"
            ]
        },
        {
            "cell_type": "markdown",
            "metadata": {},
            "source": [
                "## Change Log\n"
            ]
        },
        {
            "cell_type": "markdown",
            "metadata": {},
            "source": [
                "| Date (YYYY-MM-DD) | Version | Changed By | Change Description |\n",
                "| ----------------- | ------- | ---------- | ------------------ |\n",
                "| 2021-07-02        | 0.2     | Karthik    | Beta launch        |\n",
                "| 2021-06-30        | 0.1     | Karthik    | First Draft        |\n"
            ]
        },
        {
            "cell_type": "markdown",
            "metadata": {},
            "source": [
                "Copyright © 2021 IBM Corporation. All rights reserved.\n"
            ]
        }
    ],
    "metadata": {
        "kernelspec": {
            "display_name": "Python 3.8",
            "language": "python",
            "name": "python3"
        },
        "language_info": {
            "codemirror_mode": {
                "name": "ipython",
                "version": 3
            },
            "file_extension": ".py",
            "mimetype": "text/x-python",
            "name": "python",
            "nbconvert_exporter": "python",
            "pygments_lexer": "ipython3",
            "version": "3.8.12"
        }
    },
    "nbformat": 4,
    "nbformat_minor": 4
}
